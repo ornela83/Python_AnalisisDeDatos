{
 "cells": [
  {
   "cell_type": "markdown",
   "metadata": {},
   "source": [
    "<font color=Green>\n",
    "    \n",
    "# **3.10 Combinar conjuntos de datos**\n",
    "\n",
    "</font>\n"
   ]
  },
  {
   "cell_type": "code",
   "execution_count": 3,
   "metadata": {},
   "outputs": [],
   "source": [
    "import numpy as np\n",
    "import pandas as pd"
   ]
  },
  {
   "cell_type": "markdown",
   "metadata": {},
   "source": [
    "<img src=\"https://www.campusmvp.es/recursos/image.axd?picture=INNER-LEFT-RIGHT-FULL-JOIN.png\">"
   ]
  },
  {
   "cell_type": "markdown",
   "metadata": {},
   "source": [
    "##  <font color=#003d5c> _pd.merge()_ </font>"
   ]
  },
  {
   "cell_type": "code",
   "execution_count": 7,
   "metadata": {},
   "outputs": [
    {
     "data": {
      "text/plain": [
       "(2000, 13)"
      ]
     },
     "execution_count": 7,
     "metadata": {},
     "output_type": "execute_result"
    }
   ],
   "source": [
    "clima_p = pd.read_csv(r'ny_precipitaciones.csv')\n",
    "clima_p.shape"
   ]
  },
  {
   "cell_type": "code",
   "execution_count": 8,
   "metadata": {},
   "outputs": [
    {
     "data": {
      "text/html": [
       "<div>\n",
       "<style scoped>\n",
       "    .dataframe tbody tr th:only-of-type {\n",
       "        vertical-align: middle;\n",
       "    }\n",
       "\n",
       "    .dataframe tbody tr th {\n",
       "        vertical-align: top;\n",
       "    }\n",
       "\n",
       "    .dataframe thead th {\n",
       "        text-align: right;\n",
       "    }\n",
       "</style>\n",
       "<table border=\"1\" class=\"dataframe\">\n",
       "  <thead>\n",
       "    <tr style=\"text-align: right;\">\n",
       "      <th></th>\n",
       "      <th>STATION</th>\n",
       "      <th>NAME</th>\n",
       "      <th>DATE</th>\n",
       "      <th>MLY-DUTR-NORMAL</th>\n",
       "      <th>MLY-DUTR-STDDEV</th>\n",
       "      <th>MLY-PRCP-25PCTL</th>\n",
       "      <th>MLY-PRCP-50PCTL</th>\n",
       "      <th>MLY-PRCP-75PCTL</th>\n",
       "      <th>MLY-PRCP-AVGNDS-GE001HI</th>\n",
       "      <th>MLY-PRCP-AVGNDS-GE010HI</th>\n",
       "      <th>MLY-PRCP-AVGNDS-GE050HI</th>\n",
       "      <th>MLY-PRCP-AVGNDS-GE100HI</th>\n",
       "      <th>MLY-PRCP-NORMAL</th>\n",
       "    </tr>\n",
       "  </thead>\n",
       "  <tbody>\n",
       "    <tr>\n",
       "      <th>0</th>\n",
       "      <td>USC00301492</td>\n",
       "      <td>CINCINNATUS, NY US</td>\n",
       "      <td>1</td>\n",
       "      <td>NaN</td>\n",
       "      <td>NaN</td>\n",
       "      <td>2.04</td>\n",
       "      <td>2.48</td>\n",
       "      <td>3.52</td>\n",
       "      <td>16.8</td>\n",
       "      <td>7.8</td>\n",
       "      <td>1.3</td>\n",
       "      <td>0.3</td>\n",
       "      <td>2.80</td>\n",
       "    </tr>\n",
       "    <tr>\n",
       "      <th>1</th>\n",
       "      <td>USC00301492</td>\n",
       "      <td>CINCINNATUS, NY US</td>\n",
       "      <td>3</td>\n",
       "      <td>NaN</td>\n",
       "      <td>NaN</td>\n",
       "      <td>2.52</td>\n",
       "      <td>3.09</td>\n",
       "      <td>3.89</td>\n",
       "      <td>14.0</td>\n",
       "      <td>8.1</td>\n",
       "      <td>2.0</td>\n",
       "      <td>0.5</td>\n",
       "      <td>3.20</td>\n",
       "    </tr>\n",
       "    <tr>\n",
       "      <th>2</th>\n",
       "      <td>USC00301492</td>\n",
       "      <td>CINCINNATUS, NY US</td>\n",
       "      <td>5</td>\n",
       "      <td>NaN</td>\n",
       "      <td>NaN</td>\n",
       "      <td>2.25</td>\n",
       "      <td>3.07</td>\n",
       "      <td>5.00</td>\n",
       "      <td>12.9</td>\n",
       "      <td>8.4</td>\n",
       "      <td>2.3</td>\n",
       "      <td>0.6</td>\n",
       "      <td>3.96</td>\n",
       "    </tr>\n",
       "    <tr>\n",
       "      <th>3</th>\n",
       "      <td>USC00301492</td>\n",
       "      <td>CINCINNATUS, NY US</td>\n",
       "      <td>6</td>\n",
       "      <td>NaN</td>\n",
       "      <td>NaN</td>\n",
       "      <td>3.31</td>\n",
       "      <td>4.45</td>\n",
       "      <td>5.67</td>\n",
       "      <td>14.3</td>\n",
       "      <td>9.3</td>\n",
       "      <td>3.0</td>\n",
       "      <td>0.7</td>\n",
       "      <td>4.51</td>\n",
       "    </tr>\n",
       "    <tr>\n",
       "      <th>4</th>\n",
       "      <td>USC00301492</td>\n",
       "      <td>CINCINNATUS, NY US</td>\n",
       "      <td>7</td>\n",
       "      <td>NaN</td>\n",
       "      <td>NaN</td>\n",
       "      <td>2.98</td>\n",
       "      <td>3.83</td>\n",
       "      <td>4.87</td>\n",
       "      <td>12.8</td>\n",
       "      <td>8.5</td>\n",
       "      <td>3.2</td>\n",
       "      <td>0.9</td>\n",
       "      <td>4.11</td>\n",
       "    </tr>\n",
       "  </tbody>\n",
       "</table>\n",
       "</div>"
      ],
      "text/plain": [
       "       STATION                NAME  DATE  MLY-DUTR-NORMAL  MLY-DUTR-STDDEV  \\\n",
       "0  USC00301492  CINCINNATUS, NY US     1              NaN              NaN   \n",
       "1  USC00301492  CINCINNATUS, NY US     3              NaN              NaN   \n",
       "2  USC00301492  CINCINNATUS, NY US     5              NaN              NaN   \n",
       "3  USC00301492  CINCINNATUS, NY US     6              NaN              NaN   \n",
       "4  USC00301492  CINCINNATUS, NY US     7              NaN              NaN   \n",
       "\n",
       "   MLY-PRCP-25PCTL  MLY-PRCP-50PCTL  MLY-PRCP-75PCTL  MLY-PRCP-AVGNDS-GE001HI  \\\n",
       "0             2.04             2.48             3.52                     16.8   \n",
       "1             2.52             3.09             3.89                     14.0   \n",
       "2             2.25             3.07             5.00                     12.9   \n",
       "3             3.31             4.45             5.67                     14.3   \n",
       "4             2.98             3.83             4.87                     12.8   \n",
       "\n",
       "   MLY-PRCP-AVGNDS-GE010HI  MLY-PRCP-AVGNDS-GE050HI  MLY-PRCP-AVGNDS-GE100HI  \\\n",
       "0                      7.8                      1.3                      0.3   \n",
       "1                      8.1                      2.0                      0.5   \n",
       "2                      8.4                      2.3                      0.6   \n",
       "3                      9.3                      3.0                      0.7   \n",
       "4                      8.5                      3.2                      0.9   \n",
       "\n",
       "   MLY-PRCP-NORMAL  \n",
       "0             2.80  \n",
       "1             3.20  \n",
       "2             3.96  \n",
       "3             4.51  \n",
       "4             4.11  "
      ]
     },
     "execution_count": 8,
     "metadata": {},
     "output_type": "execute_result"
    }
   ],
   "source": [
    "clima_p.head()"
   ]
  },
  {
   "cell_type": "code",
   "execution_count": 9,
   "metadata": {},
   "outputs": [
    {
     "data": {
      "text/html": [
       "<div>\n",
       "<style scoped>\n",
       "    .dataframe tbody tr th:only-of-type {\n",
       "        vertical-align: middle;\n",
       "    }\n",
       "\n",
       "    .dataframe tbody tr th {\n",
       "        vertical-align: top;\n",
       "    }\n",
       "\n",
       "    .dataframe thead th {\n",
       "        text-align: right;\n",
       "    }\n",
       "</style>\n",
       "<table border=\"1\" class=\"dataframe\">\n",
       "  <thead>\n",
       "    <tr style=\"text-align: right;\">\n",
       "      <th></th>\n",
       "      <th>STATION</th>\n",
       "      <th>NAME</th>\n",
       "      <th>DATE</th>\n",
       "      <th>MLY-DUTR-NORMAL</th>\n",
       "      <th>MLY-DUTR-STDDEV</th>\n",
       "      <th>MLY-PRCP-25PCTL</th>\n",
       "      <th>MLY-PRCP-50PCTL</th>\n",
       "      <th>MLY-PRCP-75PCTL</th>\n",
       "      <th>MLY-PRCP-AVGNDS-GE001HI</th>\n",
       "      <th>MLY-PRCP-AVGNDS-GE010HI</th>\n",
       "      <th>MLY-PRCP-AVGNDS-GE050HI</th>\n",
       "      <th>MLY-PRCP-AVGNDS-GE100HI</th>\n",
       "      <th>MLY-PRCP-NORMAL</th>\n",
       "    </tr>\n",
       "  </thead>\n",
       "  <tbody>\n",
       "    <tr>\n",
       "      <th>1995</th>\n",
       "      <td>USW00094725</td>\n",
       "      <td>MASSENA INTERNATIONAL AIRPORT, NY US</td>\n",
       "      <td>8</td>\n",
       "      <td>22.2</td>\n",
       "      <td>1.6</td>\n",
       "      <td>2.53</td>\n",
       "      <td>3.52</td>\n",
       "      <td>4.56</td>\n",
       "      <td>11.1</td>\n",
       "      <td>6.6</td>\n",
       "      <td>2.1</td>\n",
       "      <td>0.8</td>\n",
       "      <td>3.52</td>\n",
       "    </tr>\n",
       "    <tr>\n",
       "      <th>1996</th>\n",
       "      <td>USW00094725</td>\n",
       "      <td>MASSENA INTERNATIONAL AIRPORT, NY US</td>\n",
       "      <td>9</td>\n",
       "      <td>22.1</td>\n",
       "      <td>2.5</td>\n",
       "      <td>2.34</td>\n",
       "      <td>3.30</td>\n",
       "      <td>4.63</td>\n",
       "      <td>11.7</td>\n",
       "      <td>7.2</td>\n",
       "      <td>2.3</td>\n",
       "      <td>0.8</td>\n",
       "      <td>3.65</td>\n",
       "    </tr>\n",
       "    <tr>\n",
       "      <th>1997</th>\n",
       "      <td>USW00094725</td>\n",
       "      <td>MASSENA INTERNATIONAL AIRPORT, NY US</td>\n",
       "      <td>10</td>\n",
       "      <td>19.8</td>\n",
       "      <td>2.0</td>\n",
       "      <td>1.83</td>\n",
       "      <td>3.22</td>\n",
       "      <td>4.06</td>\n",
       "      <td>12.3</td>\n",
       "      <td>7.1</td>\n",
       "      <td>1.8</td>\n",
       "      <td>0.7</td>\n",
       "      <td>3.31</td>\n",
       "    </tr>\n",
       "    <tr>\n",
       "      <th>1998</th>\n",
       "      <td>USW00094725</td>\n",
       "      <td>MASSENA INTERNATIONAL AIRPORT, NY US</td>\n",
       "      <td>11</td>\n",
       "      <td>16.4</td>\n",
       "      <td>2.0</td>\n",
       "      <td>2.12</td>\n",
       "      <td>3.07</td>\n",
       "      <td>3.98</td>\n",
       "      <td>14.2</td>\n",
       "      <td>7.6</td>\n",
       "      <td>1.6</td>\n",
       "      <td>0.4</td>\n",
       "      <td>3.03</td>\n",
       "    </tr>\n",
       "    <tr>\n",
       "      <th>1999</th>\n",
       "      <td>USW00094725</td>\n",
       "      <td>MASSENA INTERNATIONAL AIRPORT, NY US</td>\n",
       "      <td>12</td>\n",
       "      <td>16.8</td>\n",
       "      <td>2.6</td>\n",
       "      <td>1.77</td>\n",
       "      <td>2.26</td>\n",
       "      <td>2.81</td>\n",
       "      <td>14.6</td>\n",
       "      <td>6.6</td>\n",
       "      <td>1.2</td>\n",
       "      <td>0.2</td>\n",
       "      <td>2.43</td>\n",
       "    </tr>\n",
       "  </tbody>\n",
       "</table>\n",
       "</div>"
      ],
      "text/plain": [
       "          STATION                                  NAME  DATE  \\\n",
       "1995  USW00094725  MASSENA INTERNATIONAL AIRPORT, NY US     8   \n",
       "1996  USW00094725  MASSENA INTERNATIONAL AIRPORT, NY US     9   \n",
       "1997  USW00094725  MASSENA INTERNATIONAL AIRPORT, NY US    10   \n",
       "1998  USW00094725  MASSENA INTERNATIONAL AIRPORT, NY US    11   \n",
       "1999  USW00094725  MASSENA INTERNATIONAL AIRPORT, NY US    12   \n",
       "\n",
       "      MLY-DUTR-NORMAL  MLY-DUTR-STDDEV  MLY-PRCP-25PCTL  MLY-PRCP-50PCTL  \\\n",
       "1995             22.2              1.6             2.53             3.52   \n",
       "1996             22.1              2.5             2.34             3.30   \n",
       "1997             19.8              2.0             1.83             3.22   \n",
       "1998             16.4              2.0             2.12             3.07   \n",
       "1999             16.8              2.6             1.77             2.26   \n",
       "\n",
       "      MLY-PRCP-75PCTL  MLY-PRCP-AVGNDS-GE001HI  MLY-PRCP-AVGNDS-GE010HI  \\\n",
       "1995             4.56                     11.1                      6.6   \n",
       "1996             4.63                     11.7                      7.2   \n",
       "1997             4.06                     12.3                      7.1   \n",
       "1998             3.98                     14.2                      7.6   \n",
       "1999             2.81                     14.6                      6.6   \n",
       "\n",
       "      MLY-PRCP-AVGNDS-GE050HI  MLY-PRCP-AVGNDS-GE100HI  MLY-PRCP-NORMAL  \n",
       "1995                      2.1                      0.8             3.52  \n",
       "1996                      2.3                      0.8             3.65  \n",
       "1997                      1.8                      0.7             3.31  \n",
       "1998                      1.6                      0.4             3.03  \n",
       "1999                      1.2                      0.2             2.43  "
      ]
     },
     "execution_count": 9,
     "metadata": {},
     "output_type": "execute_result"
    }
   ],
   "source": [
    "clima_p.tail()"
   ]
  },
  {
   "cell_type": "code",
   "execution_count": 10,
   "metadata": {},
   "outputs": [
    {
     "data": {
      "text/plain": [
       "(2244, 9)"
      ]
     },
     "execution_count": 10,
     "metadata": {},
     "output_type": "execute_result"
    }
   ],
   "source": [
    "clima_t = pd.read_csv(r'ny_temperaturas.csv')\n",
    "clima_t.shape"
   ]
  },
  {
   "cell_type": "code",
   "execution_count": 11,
   "metadata": {},
   "outputs": [
    {
     "data": {
      "text/plain": [
       "0                         CINCINNATUS, NY US\n",
       "1                         CINCINNATUS, NY US\n",
       "2                         CINCINNATUS, NY US\n",
       "3                         CINCINNATUS, NY US\n",
       "4                         CINCINNATUS, NY US\n",
       "                        ...                 \n",
       "1995    MASSENA INTERNATIONAL AIRPORT, NY US\n",
       "1996    MASSENA INTERNATIONAL AIRPORT, NY US\n",
       "1997    MASSENA INTERNATIONAL AIRPORT, NY US\n",
       "1998    MASSENA INTERNATIONAL AIRPORT, NY US\n",
       "1999    MASSENA INTERNATIONAL AIRPORT, NY US\n",
       "Name: NAME, Length: 2000, dtype: object"
      ]
     },
     "execution_count": 11,
     "metadata": {},
     "output_type": "execute_result"
    }
   ],
   "source": [
    "clima_p.NAME"
   ]
  },
  {
   "cell_type": "code",
   "execution_count": 12,
   "metadata": {
    "scrolled": true
   },
   "outputs": [
    {
     "data": {
      "text/html": [
       "<div>\n",
       "<style scoped>\n",
       "    .dataframe tbody tr th:only-of-type {\n",
       "        vertical-align: middle;\n",
       "    }\n",
       "\n",
       "    .dataframe tbody tr th {\n",
       "        vertical-align: top;\n",
       "    }\n",
       "\n",
       "    .dataframe thead th {\n",
       "        text-align: right;\n",
       "    }\n",
       "</style>\n",
       "<table border=\"1\" class=\"dataframe\">\n",
       "  <thead>\n",
       "    <tr style=\"text-align: right;\">\n",
       "      <th></th>\n",
       "      <th>STATION</th>\n",
       "      <th>NAME</th>\n",
       "      <th>DATE</th>\n",
       "      <th>MLY-DUTR-NORMAL</th>\n",
       "      <th>MLY-DUTR-STDDEV</th>\n",
       "      <th>MLY-PRCP-25PCTL</th>\n",
       "      <th>MLY-PRCP-50PCTL</th>\n",
       "      <th>MLY-PRCP-75PCTL</th>\n",
       "      <th>MLY-PRCP-AVGNDS-GE001HI</th>\n",
       "      <th>MLY-PRCP-AVGNDS-GE010HI</th>\n",
       "      <th>MLY-PRCP-AVGNDS-GE050HI</th>\n",
       "      <th>MLY-PRCP-AVGNDS-GE100HI</th>\n",
       "      <th>MLY-PRCP-NORMAL</th>\n",
       "    </tr>\n",
       "  </thead>\n",
       "  <tbody>\n",
       "    <tr>\n",
       "      <th>819</th>\n",
       "      <td>USC00304174</td>\n",
       "      <td>ITHACA CORNELL UNIVERSITY, NY US</td>\n",
       "      <td>1</td>\n",
       "      <td>15.9</td>\n",
       "      <td>1.8</td>\n",
       "      <td>1.15</td>\n",
       "      <td>1.90</td>\n",
       "      <td>2.76</td>\n",
       "      <td>15.8</td>\n",
       "      <td>5.8</td>\n",
       "      <td>0.7</td>\n",
       "      <td>0.1</td>\n",
       "      <td>2.08</td>\n",
       "    </tr>\n",
       "    <tr>\n",
       "      <th>820</th>\n",
       "      <td>USC00304174</td>\n",
       "      <td>ITHACA CORNELL UNIVERSITY, NY US</td>\n",
       "      <td>3</td>\n",
       "      <td>19.0</td>\n",
       "      <td>1.9</td>\n",
       "      <td>2.08</td>\n",
       "      <td>2.37</td>\n",
       "      <td>3.16</td>\n",
       "      <td>13.8</td>\n",
       "      <td>6.2</td>\n",
       "      <td>1.4</td>\n",
       "      <td>0.3</td>\n",
       "      <td>2.64</td>\n",
       "    </tr>\n",
       "    <tr>\n",
       "      <th>821</th>\n",
       "      <td>USC00304174</td>\n",
       "      <td>ITHACA CORNELL UNIVERSITY, NY US</td>\n",
       "      <td>6</td>\n",
       "      <td>22.7</td>\n",
       "      <td>2.4</td>\n",
       "      <td>2.89</td>\n",
       "      <td>3.89</td>\n",
       "      <td>4.86</td>\n",
       "      <td>13.8</td>\n",
       "      <td>8.9</td>\n",
       "      <td>2.5</td>\n",
       "      <td>0.7</td>\n",
       "      <td>3.99</td>\n",
       "    </tr>\n",
       "    <tr>\n",
       "      <th>822</th>\n",
       "      <td>USC00304174</td>\n",
       "      <td>ITHACA CORNELL UNIVERSITY, NY US</td>\n",
       "      <td>7</td>\n",
       "      <td>22.1</td>\n",
       "      <td>1.8</td>\n",
       "      <td>2.81</td>\n",
       "      <td>3.40</td>\n",
       "      <td>4.78</td>\n",
       "      <td>12.1</td>\n",
       "      <td>8.1</td>\n",
       "      <td>2.7</td>\n",
       "      <td>0.8</td>\n",
       "      <td>3.83</td>\n",
       "    </tr>\n",
       "    <tr>\n",
       "      <th>823</th>\n",
       "      <td>USC00304174</td>\n",
       "      <td>ITHACA CORNELL UNIVERSITY, NY US</td>\n",
       "      <td>8</td>\n",
       "      <td>22.3</td>\n",
       "      <td>1.7</td>\n",
       "      <td>2.48</td>\n",
       "      <td>3.52</td>\n",
       "      <td>4.37</td>\n",
       "      <td>11.5</td>\n",
       "      <td>7.0</td>\n",
       "      <td>2.5</td>\n",
       "      <td>0.9</td>\n",
       "      <td>3.63</td>\n",
       "    </tr>\n",
       "    <tr>\n",
       "      <th>824</th>\n",
       "      <td>USC00304174</td>\n",
       "      <td>ITHACA CORNELL UNIVERSITY, NY US</td>\n",
       "      <td>9</td>\n",
       "      <td>22.1</td>\n",
       "      <td>2.4</td>\n",
       "      <td>2.43</td>\n",
       "      <td>3.45</td>\n",
       "      <td>4.98</td>\n",
       "      <td>12.0</td>\n",
       "      <td>7.0</td>\n",
       "      <td>2.5</td>\n",
       "      <td>0.8</td>\n",
       "      <td>3.69</td>\n",
       "    </tr>\n",
       "    <tr>\n",
       "      <th>825</th>\n",
       "      <td>USC00304174</td>\n",
       "      <td>ITHACA CORNELL UNIVERSITY, NY US</td>\n",
       "      <td>11</td>\n",
       "      <td>15.8</td>\n",
       "      <td>2.0</td>\n",
       "      <td>2.55</td>\n",
       "      <td>3.00</td>\n",
       "      <td>3.90</td>\n",
       "      <td>14.4</td>\n",
       "      <td>6.7</td>\n",
       "      <td>1.9</td>\n",
       "      <td>0.4</td>\n",
       "      <td>3.16</td>\n",
       "    </tr>\n",
       "  </tbody>\n",
       "</table>\n",
       "</div>"
      ],
      "text/plain": [
       "         STATION                              NAME  DATE  MLY-DUTR-NORMAL  \\\n",
       "819  USC00304174  ITHACA CORNELL UNIVERSITY, NY US     1             15.9   \n",
       "820  USC00304174  ITHACA CORNELL UNIVERSITY, NY US     3             19.0   \n",
       "821  USC00304174  ITHACA CORNELL UNIVERSITY, NY US     6             22.7   \n",
       "822  USC00304174  ITHACA CORNELL UNIVERSITY, NY US     7             22.1   \n",
       "823  USC00304174  ITHACA CORNELL UNIVERSITY, NY US     8             22.3   \n",
       "824  USC00304174  ITHACA CORNELL UNIVERSITY, NY US     9             22.1   \n",
       "825  USC00304174  ITHACA CORNELL UNIVERSITY, NY US    11             15.8   \n",
       "\n",
       "     MLY-DUTR-STDDEV  MLY-PRCP-25PCTL  MLY-PRCP-50PCTL  MLY-PRCP-75PCTL  \\\n",
       "819              1.8             1.15             1.90             2.76   \n",
       "820              1.9             2.08             2.37             3.16   \n",
       "821              2.4             2.89             3.89             4.86   \n",
       "822              1.8             2.81             3.40             4.78   \n",
       "823              1.7             2.48             3.52             4.37   \n",
       "824              2.4             2.43             3.45             4.98   \n",
       "825              2.0             2.55             3.00             3.90   \n",
       "\n",
       "     MLY-PRCP-AVGNDS-GE001HI  MLY-PRCP-AVGNDS-GE010HI  \\\n",
       "819                     15.8                      5.8   \n",
       "820                     13.8                      6.2   \n",
       "821                     13.8                      8.9   \n",
       "822                     12.1                      8.1   \n",
       "823                     11.5                      7.0   \n",
       "824                     12.0                      7.0   \n",
       "825                     14.4                      6.7   \n",
       "\n",
       "     MLY-PRCP-AVGNDS-GE050HI  MLY-PRCP-AVGNDS-GE100HI  MLY-PRCP-NORMAL  \n",
       "819                      0.7                      0.1             2.08  \n",
       "820                      1.4                      0.3             2.64  \n",
       "821                      2.5                      0.7             3.99  \n",
       "822                      2.7                      0.8             3.83  \n",
       "823                      2.5                      0.9             3.63  \n",
       "824                      2.5                      0.8             3.69  \n",
       "825                      1.9                      0.4             3.16  "
      ]
     },
     "execution_count": 12,
     "metadata": {},
     "output_type": "execute_result"
    }
   ],
   "source": [
    " clima_p[clima_p[\"NAME\"] == \"ITHACA CORNELL UNIVERSITY, NY US\"]"
   ]
  },
  {
   "cell_type": "code",
   "execution_count": 13,
   "metadata": {},
   "outputs": [
    {
     "data": {
      "text/plain": [
       "(7, 13)"
      ]
     },
     "execution_count": 13,
     "metadata": {},
     "output_type": "execute_result"
    }
   ],
   "source": [
    "precip_itaca = clima_p[clima_p[\"NAME\"] == \"ITHACA CORNELL UNIVERSITY, NY US\"]\n",
    "precip_itaca.shape"
   ]
  },
  {
   "cell_type": "markdown",
   "metadata": {},
   "source": [
    "### De forma predeterminada `pd.merge` realiza un _Inner Join_ entre ambos DataFrames"
   ]
  },
  {
   "cell_type": "code",
   "execution_count": null,
   "metadata": {},
   "outputs": [],
   "source": [
    "itaca_inner_merge = pd.merge(precip_itaca, clima_t)\n",
    "itaca_inner_merge.shape"
   ]
  },
  {
   "cell_type": "code",
   "execution_count": null,
   "metadata": {},
   "outputs": [],
   "source": [
    "itaca_inner_merge.head()"
   ]
  },
  {
   "cell_type": "markdown",
   "metadata": {},
   "source": [
    "### Podemos especificarle a `pd.merge` qué  clase de _Join_ deseamos hacer entre los DataFrames"
   ]
  },
  {
   "cell_type": "code",
   "execution_count": null,
   "metadata": {},
   "outputs": [],
   "source": [
    "#Outer join\n",
    "\n",
    "itaca_outer_merge = pd.merge(precip_itaca, clima_t, how=\"outer\", on=[\"STATION\", \"DATE\"])\n",
    "itaca_outer_merge.columns"
   ]
  },
  {
   "cell_type": "code",
   "execution_count": null,
   "metadata": {},
   "outputs": [],
   "source": [
    "itaca_outer_merge.shape"
   ]
  },
  {
   "cell_type": "code",
   "execution_count": null,
   "metadata": {},
   "outputs": [],
   "source": [
    "itaca_outer_merge.head(30)"
   ]
  },
  {
   "cell_type": "code",
   "execution_count": null,
   "metadata": {},
   "outputs": [],
   "source": [
    "# Left Join\n",
    "\n",
    "itaca_left_merge = pd.merge(clima_t, precip_itaca,\n",
    "                        how=\"left\", on=[\"STATION\", \"DATE\"])\n",
    "itaca_left_merge.shape"
   ]
  },
  {
   "cell_type": "code",
   "execution_count": null,
   "metadata": {},
   "outputs": [],
   "source": [
    "# Right Join\n",
    "\n",
    "itaca_right_merge = pd.merge(clima_t, precip_itaca,\n",
    "                        how=\"right\", on=[\"STATION\", \"DATE\"])\n",
    "itaca_right_merge.shape"
   ]
  },
  {
   "cell_type": "markdown",
   "metadata": {},
   "source": [
    "##  <font color=#003d5c> _.join()_ </font>\n",
    "\n",
    "### Éste es un método contenido en el clase `DataFrame`.\n",
    "### Se diferencia de `pd.merge()` en que aquél es una función del módulo pandas y que `.join()` (de forma predeterminada) busca unir los conjuntos a partir de los índices."
   ]
  },
  {
   "cell_type": "code",
   "execution_count": null,
   "metadata": {},
   "outputs": [],
   "source": [
    "clima_t.join(clima_p)"
   ]
  },
  {
   "cell_type": "code",
   "execution_count": null,
   "metadata": {
    "scrolled": true
   },
   "outputs": [],
   "source": [
    "clima_join = clima_t.join(clima_p, lsuffix='_left')\n",
    "clima_join\n"
   ]
  },
  {
   "cell_type": "code",
   "execution_count": null,
   "metadata": {},
   "outputs": [],
   "source": [
    "clima_p.set_index([\"STATION\", \"DATE\"])"
   ]
  },
  {
   "cell_type": "code",
   "execution_count": null,
   "metadata": {
    "scrolled": true
   },
   "outputs": [],
   "source": [
    "clima_joined_total = clima_t.join(clima_p.set_index([\"STATION\", \"DATE\"]),\n",
    "                                lsuffix=\"_x\",\n",
    "                                rsuffix=\"_y\",\n",
    "                                on=[\"STATION\", \"DATE\"],\n",
    "                                )\n",
    "clima_joined_total.head()"
   ]
  },
  {
   "cell_type": "markdown",
   "metadata": {},
   "source": [
    "##  <font color=#003d5c> _pd.concat()_ </font>\n",
    "\n",
    "### Esta función nos permite juntar DataFrames a través de un eje, o las filas o las columnas."
   ]
  },
  {
   "cell_type": "code",
   "execution_count": null,
   "metadata": {},
   "outputs": [],
   "source": [
    "clima_total_outer_concat = pd.concat([clima_t, clima_p], axis=1)\n",
    "clima_total_outer_concat.tail()"
   ]
  },
  {
   "cell_type": "code",
   "execution_count": null,
   "metadata": {},
   "outputs": [],
   "source": [
    "clima_total_outer_concat = pd.concat([clima_t, clima_p], axis=0)\n",
    "clima_total_outer_concat.shape"
   ]
  },
  {
   "cell_type": "code",
   "execution_count": null,
   "metadata": {},
   "outputs": [],
   "source": [
    "df_jerar = pd.concat([clima_t, clima_p], keys=[\"temp\", \"precip\"])\n",
    "df_jerar\n"
   ]
  },
  {
   "cell_type": "code",
   "execution_count": null,
   "metadata": {},
   "outputs": [],
   "source": []
  }
 ],
 "metadata": {
  "kernelspec": {
   "display_name": "Python 3",
   "language": "python",
   "name": "python3"
  },
  "language_info": {
   "codemirror_mode": {
    "name": "ipython",
    "version": 3
   },
   "file_extension": ".py",
   "mimetype": "text/x-python",
   "name": "python",
   "nbconvert_exporter": "python",
   "pygments_lexer": "ipython3",
   "version": "3.8.8"
  }
 },
 "nbformat": 4,
 "nbformat_minor": 4
}
