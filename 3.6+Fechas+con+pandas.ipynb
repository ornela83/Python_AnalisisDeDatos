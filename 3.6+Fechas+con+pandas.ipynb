{
 "cells": [
  {
   "cell_type": "markdown",
   "metadata": {},
   "source": [
    "<font color=Green>\n",
    "    \n",
    "# **3.6 Fechas con pandas**\n",
    "\n",
    "</font>\n",
    "\n",
    "### Pandas también incluye sus propias funciones para trabajar con fechas.\n"
   ]
  },
  {
   "cell_type": "code",
   "execution_count": null,
   "metadata": {},
   "outputs": [],
   "source": [
    "import numpy as np\n",
    "import pandas as pd\n",
    "import datetime"
   ]
  },
  {
   "cell_type": "markdown",
   "metadata": {},
   "source": [
    "## <font color=#003d5c>_.to_datetime()_ </font>"
   ]
  },
  {
   "cell_type": "code",
   "execution_count": null,
   "metadata": {},
   "outputs": [],
   "source": [
    "fecha = pd.to_datetime('24th April, 2020')\n",
    "\n",
    "print(fecha)\n",
    "print(type(fecha))"
   ]
  },
  {
   "cell_type": "code",
   "execution_count": null,
   "metadata": {},
   "outputs": [],
   "source": [
    "fecha.hour, fecha.minute, fecha.second"
   ]
  },
  {
   "cell_type": "markdown",
   "metadata": {},
   "source": [
    "## <font color=#003d5c>_.to_timedelta()_ </font>\n",
    "### Esta función nos permite calcular los días antes o después de una fecha determinada."
   ]
  },
  {
   "cell_type": "code",
   "execution_count": null,
   "metadata": {},
   "outputs": [],
   "source": [
    "fecha = datetime.datetime.now()\n",
    "\n",
    "print(fecha)"
   ]
  },
  {
   "cell_type": "markdown",
   "metadata": {},
   "source": [
    "### La fecha del día siguiente"
   ]
  },
  {
   "cell_type": "code",
   "execution_count": null,
   "metadata": {},
   "outputs": [],
   "source": [
    "print('La fecha de hoy es: ', fecha)\n",
    "\n",
    "print('Y la fecha en 4 días será: ', fecha + pd.to_timedelta(4,unit='D'))\n"
   ]
  },
  {
   "cell_type": "markdown",
   "metadata": {},
   "source": [
    "## <font color=#003d5c>_.date_range()_ </font>\n",
    "### Este método nos permite generar un rango de fechas."
   ]
  },
  {
   "cell_type": "code",
   "execution_count": null,
   "metadata": {},
   "outputs": [],
   "source": [
    "fechas_inicio = pd.date_range(start='24/4/2020', end='24/5/2020', freq='D')\n",
    "fechas_inicio"
   ]
  },
  {
   "cell_type": "code",
   "execution_count": null,
   "metadata": {},
   "outputs": [],
   "source": [
    "fechas_fin = pd.date_range(start='24/5/2020', end='24/6/2020', freq='D')\n",
    "fechas_fin"
   ]
  },
  {
   "cell_type": "code",
   "execution_count": null,
   "metadata": {},
   "outputs": [],
   "source": [
    "lista_equis = []\n",
    "\n",
    "for i in range(15):\n",
    "    lista_equis.append(np.random.randint(2))\n",
    "\n",
    "\n",
    "df = pd.DataFrame()\n",
    "\n",
    "df['Inicio_campaña'] = fechas_inicio[:15]\n",
    "df['Fin_campaña'] = fechas_fin[:15]\n",
    "df['Target'] = lista_equis\n",
    "\n",
    "df"
   ]
  },
  {
   "cell_type": "code",
   "execution_count": null,
   "metadata": {},
   "outputs": [],
   "source": [
    "df['Día de inicio'] = df['Inicio_campaña'].dt.day\n",
    "\n",
    "\n",
    "df['Mes de inicio'] = df['Inicio_campaña'].dt.month\n",
    "\n",
    "\n",
    "df['Año de inicio'] = df['Inicio_campaña'].dt.year\n",
    "\n",
    "\n",
    "df['Hora_inicio'] = df['Inicio_campaña'].dt.hour\n",
    "\n",
    "\n",
    "df['Minuto_inicio'] = df['Inicio_campaña'].dt.minute\n",
    "\n",
    "\n",
    "df['Segundo_inicio'] = df['Inicio_campaña'].dt.second\n",
    "\n",
    "\n",
    "df['Nombre del día de inicio'] = df['Inicio_campaña'].dt.weekday\n",
    "\n",
    "\n",
    "df['Semana del año de inicio'] = df['Inicio_campaña'].dt.week\n",
    "\n",
    "\n",
    "df['Duración'] = df['Fin_campaña']-df['Inicio_campaña']"
   ]
  },
  {
   "cell_type": "code",
   "execution_count": null,
   "metadata": {},
   "outputs": [],
   "source": [
    "df.columns = ['Inicio_campaña', 'Fin_campaña', 'Target','Día de inicio','Mes de inicio','Año de inicio','Hora_inicio',\n",
    "              'Minuto_inicio','Segundo_inicio','Día de la semana del inicio','Semana del año de inicio','Duración']"
   ]
  },
  {
   "cell_type": "code",
   "execution_count": null,
   "metadata": {},
   "outputs": [],
   "source": [
    "df"
   ]
  },
  {
   "cell_type": "code",
   "execution_count": null,
   "metadata": {},
   "outputs": [],
   "source": [
    "from datetime import timedelta\n",
    "\n",
    "df['Días de duración'] = df['Duración']/timedelta(days=1)\n",
    "\n",
    "df['Minutos de duración'] = df['Duración']/timedelta(minutes=1)\n",
    "\n",
    "df['Segundos de duración'] = df['Duración']/timedelta(seconds=1)\n",
    "\n",
    "df"
   ]
  },
  {
   "cell_type": "code",
   "execution_count": null,
   "metadata": {},
   "outputs": [],
   "source": []
  }
 ],
 "metadata": {
  "kernelspec": {
   "display_name": "Python 3",
   "language": "python",
   "name": "python3"
  },
  "language_info": {
   "codemirror_mode": {
    "name": "ipython",
    "version": 3
   },
   "file_extension": ".py",
   "mimetype": "text/x-python",
   "name": "python",
   "nbconvert_exporter": "python",
   "pygments_lexer": "ipython3",
   "version": "3.7.6"
  }
 },
 "nbformat": 4,
 "nbformat_minor": 4
}
