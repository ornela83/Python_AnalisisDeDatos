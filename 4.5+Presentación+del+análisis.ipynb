{
 "cells": [
  {
   "cell_type": "markdown",
   "metadata": {},
   "source": [
    "<font color=Green>\n",
    "    \n",
    "# **4.5 Presentación del análisis**\n",
    "\n",
    "</font>"
   ]
  },
  {
   "cell_type": "code",
   "execution_count": null,
   "metadata": {},
   "outputs": [],
   "source": [
    "import numpy as np\n",
    "import pandas as pd\n",
    "import matplotlib.pyplot as plt"
   ]
  },
  {
   "cell_type": "code",
   "execution_count": null,
   "metadata": {},
   "outputs": [],
   "source": [
    "df_crudo = pd.read_csv(r'C:\\Users\\ldavidr\\Desktop\\dow_jones_index.data')\n",
    "df_crudo"
   ]
  },
  {
   "cell_type": "markdown",
   "metadata": {},
   "source": [
    "### El parámetro _converters_ de la función `pd.read_csv()` nos permite aplicar una operación en las columnas."
   ]
  },
  {
   "cell_type": "code",
   "execution_count": null,
   "metadata": {},
   "outputs": [],
   "source": [
    "columnas = ['accion', 'fecha', 'precio']\n",
    "\n",
    "df = pd.read_csv(r'C:\\Users\\ldavidr\\Desktop\\dow_jones_index.data',\n",
    "                 usecols=[1,2,6],\n",
    "                 header=0,\n",
    "                 names = columnas,\n",
    "                 parse_dates=['fecha'],\n",
    "                 converters={'precio':\n",
    "                             lambda x: \n",
    "                             float(x.replace('$', ''))\n",
    "                            }\n",
    "                )\n",
    "df"
   ]
  },
  {
   "cell_type": "markdown",
   "metadata": {},
   "source": [
    "### Empecemos por entender los datos contenidos en el csv."
   ]
  },
  {
   "cell_type": "markdown",
   "metadata": {},
   "source": [
    "## <font color=#003d5c> _¿Qué período en el tiempo representan los datos?_ </font>"
   ]
  },
  {
   "cell_type": "code",
   "execution_count": null,
   "metadata": {},
   "outputs": [],
   "source": [
    "df.fecha.dt.year.value_counts()"
   ]
  },
  {
   "cell_type": "markdown",
   "metadata": {},
   "source": [
    "+ Las datos pertenecen al año 2011."
   ]
  },
  {
   "cell_type": "code",
   "execution_count": null,
   "metadata": {},
   "outputs": [],
   "source": [
    "df.fecha.dt.month.value_counts()"
   ]
  },
  {
   "cell_type": "code",
   "execution_count": null,
   "metadata": {},
   "outputs": [],
   "source": [
    "df.fecha.dt.month_name().value_counts()"
   ]
  },
  {
   "cell_type": "markdown",
   "metadata": {},
   "source": [
    "+ Los datos se distribuyen desde Enero a Junio del 2011: _Primer semestre del año._\n",
    "+ En el mes de Abril hay 30 registros más que en el resto de los meses: _¿Por qué?._"
   ]
  },
  {
   "cell_type": "code",
   "execution_count": null,
   "metadata": {},
   "outputs": [],
   "source": [
    "df['mes'] = df.fecha.dt.month_name()\n",
    "\n",
    "filtro1 = df['mes'] == 'April'\n",
    "\n",
    "filtro2 = df['mes'] == 'May'"
   ]
  },
  {
   "cell_type": "code",
   "execution_count": null,
   "metadata": {},
   "outputs": [],
   "source": [
    "df[filtro1].groupby('accion')['mes'].value_counts()"
   ]
  },
  {
   "cell_type": "code",
   "execution_count": null,
   "metadata": {},
   "outputs": [],
   "source": [
    "df[filtro2].groupby('accion')['mes'].value_counts()"
   ]
  },
  {
   "cell_type": "markdown",
   "metadata": {},
   "source": [
    "+ En Abril las acciones cotizaron 5 veces porque el mes tuvo 5 semanas."
   ]
  },
  {
   "cell_type": "markdown",
   "metadata": {},
   "source": [
    "## <font color=#003d5c> _¿Cuáles acciones en promedio tuvieron la mayor y la menor cotización?_ </font>"
   ]
  },
  {
   "cell_type": "code",
   "execution_count": null,
   "metadata": {},
   "outputs": [],
   "source": [
    "df.groupby('accion').agg({'precio': [np.mean, np.std]})"
   ]
  },
  {
   "cell_type": "code",
   "execution_count": null,
   "metadata": {},
   "outputs": [],
   "source": [
    "df.groupby('accion').agg({'precio': [np.mean, np.std]}).sort_values([('precio', 'mean')], ascending=False)"
   ]
  },
  {
   "cell_type": "markdown",
   "metadata": {},
   "source": [
    "+ En promedio IBM tuvo el mayor precio: 163,10 USD\n",
    "+ En promedio BAC tuvo el menor precio: 13,05 USD"
   ]
  },
  {
   "cell_type": "markdown",
   "metadata": {},
   "source": [
    "## <font color=#003d5c> _¿Cuáles acciones tuvieron la mayor y menor variación de precio?_ </font>"
   ]
  },
  {
   "cell_type": "code",
   "execution_count": null,
   "metadata": {},
   "outputs": [],
   "source": [
    "df.groupby('accion').agg({'precio': [np.mean, np.std]}).sort_values([('precio', 'std')], ascending=False)"
   ]
  },
  {
   "cell_type": "markdown",
   "metadata": {},
   "source": [
    "+ CAT es la acción más volátil, con una desviación tipica de 6,22 USD\n",
    "+ AA es la acción más consistente, con una desviación típica de 0,77 USD"
   ]
  },
  {
   "cell_type": "markdown",
   "metadata": {},
   "source": [
    "### Ya que conocemos la acción más volátil, podemos preguntarnos si el precio de esta acción tiene correlación con el precio de otras acciones.\n",
    "\n",
    "### Deseamos estudiar una o varias acciones particulares pero el conjunto de datos no presenta un formato conveniente para esto. \n",
    "\n",
    "### La función `df.pivot_table()` nos genera un nuevo `DataFrame` reorganizado con la forma que deseemos."
   ]
  },
  {
   "cell_type": "code",
   "execution_count": null,
   "metadata": {
    "scrolled": true
   },
   "outputs": [],
   "source": [
    "df_nuevo = df.pivot_table(index='fecha', \n",
    "                          columns='accion', \n",
    "                          values='precio')\n",
    "df_nuevo"
   ]
  },
  {
   "cell_type": "markdown",
   "metadata": {},
   "source": [
    "### Ahora podemos centrarnos en estudiar el comportamiento en el tiempo de cada acción."
   ]
  },
  {
   "cell_type": "code",
   "execution_count": null,
   "metadata": {},
   "outputs": [],
   "source": [
    "fig, (pan1,pan2) = plt.subplots(2,1, sharex=True, constrained_layout=True)\n",
    "\n",
    "pan1.plot(df_nuevo.index, df_nuevo.CAT, \n",
    "         color = 'blue', \n",
    "         marker = 'o', \n",
    "         linestyle = 'solid',\n",
    "         label = 'CAT')\n",
    "\n",
    "\n",
    "pan2.plot(df_nuevo.index, df_nuevo.AA, \n",
    "          color = 'orange', \n",
    "          marker = 'v', \n",
    "          linestyle = 'solid',\n",
    "          label='AA')\n",
    "\n",
    "\n",
    "for pan in fig.get_axes():\n",
    "    pan.set(xlabel='Fecha', \n",
    "            ylabel='Dólares americanos.', \n",
    "            title='Precio de la acción (al cierre).')\n",
    "\n",
    "pan1.legend()\n",
    "pan2.legend()"
   ]
  },
  {
   "cell_type": "markdown",
   "metadata": {},
   "source": [
    "+ Los precios de ambas acciones presentan un comportamiento alcista hasta Abril -con un ligero declive en las primeras semanas de Marzo-, a partir de ahí el precio baja hasta la última semana de Junio."
   ]
  },
  {
   "cell_type": "markdown",
   "metadata": {},
   "source": [
    "## <font color=#003d5c> _¿Existe alguna correlación entre los precios de CAT y el resto de las acciones?_ </font>"
   ]
  },
  {
   "cell_type": "code",
   "execution_count": null,
   "metadata": {
    "scrolled": true
   },
   "outputs": [],
   "source": [
    "df_nuevo.corr()"
   ]
  },
  {
   "cell_type": "code",
   "execution_count": null,
   "metadata": {},
   "outputs": [],
   "source": [
    "df_nuevo.corr().loc['CAT']"
   ]
  },
  {
   "cell_type": "code",
   "execution_count": null,
   "metadata": {},
   "outputs": [],
   "source": [
    "df_nuevo.corr().loc['CAT'][df_nuevo.corr().loc['CAT'] > 0.8]"
   ]
  },
  {
   "cell_type": "code",
   "execution_count": null,
   "metadata": {},
   "outputs": [],
   "source": [
    "corr_pos = df_nuevo.corr().loc['CAT'][df_nuevo.corr().loc['CAT'] > 0.8].sort_values(ascending=False)\n",
    "corr_pos"
   ]
  },
  {
   "cell_type": "markdown",
   "metadata": {},
   "source": [
    "+ Las acciones DD, VZ, CVX, MMM, XOM presentan una fuerte correlación positiva con CAT."
   ]
  },
  {
   "cell_type": "code",
   "execution_count": null,
   "metadata": {},
   "outputs": [],
   "source": [
    "valores = corr_pos[1:5]\n",
    "\n",
    "plt.bar(valores.index, valores.values, color='forestgreen')\n",
    "\n",
    "plt.plot()\n",
    "\n",
    "plt.xlabel(\"Acciones\")\n",
    "\n",
    "plt.ylabel(\"Coeficiente de correlación.\")\n",
    "\n",
    "plt.title('Correlación entre CAT y el resto.')\n",
    "\n",
    "plt.show()"
   ]
  },
  {
   "cell_type": "code",
   "execution_count": null,
   "metadata": {},
   "outputs": [],
   "source": [
    "corr_neg = df_nuevo.corr().loc['CAT'][df_nuevo.corr().loc['CAT'] < 0].sort_values(ascending=True)\n",
    "corr_neg"
   ]
  },
  {
   "cell_type": "code",
   "execution_count": null,
   "metadata": {
    "scrolled": true
   },
   "outputs": [],
   "source": [
    "valores = corr_neg[1:5]\n",
    "\n",
    "plt.bar(valores.index, valores.values, color='brown')\n",
    "\n",
    "plt.plot()\n",
    "\n",
    "plt.xlabel(\"Acciones\")\n",
    "\n",
    "plt.ylabel(\"Coeficiente de correlación.\")\n",
    "\n",
    "plt.title('Correlación entre CAT y el resto.')\n",
    "\n",
    "plt.show()"
   ]
  },
  {
   "cell_type": "markdown",
   "metadata": {},
   "source": [
    "+ Ninguna acción presenta una correlación negativa significante con CAT."
   ]
  }
 ],
 "metadata": {
  "kernelspec": {
   "display_name": "Python 3",
   "language": "python",
   "name": "python3"
  },
  "language_info": {
   "codemirror_mode": {
    "name": "ipython",
    "version": 3
   },
   "file_extension": ".py",
   "mimetype": "text/x-python",
   "name": "python",
   "nbconvert_exporter": "python",
   "pygments_lexer": "ipython3",
   "version": "3.7.6"
  }
 },
 "nbformat": 4,
 "nbformat_minor": 4
}
