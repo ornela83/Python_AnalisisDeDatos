{
 "cells": [
  {
   "cell_type": "markdown",
   "metadata": {},
   "source": [
    "<font color=Green>\n",
    "    \n",
    "# **3.8 Muestras aleatorias**\n",
    "\n",
    "</font>"
   ]
  },
  {
   "cell_type": "code",
   "execution_count": null,
   "metadata": {},
   "outputs": [],
   "source": [
    "import numpy as np\n",
    "import pandas as pd"
   ]
  },
  {
   "cell_type": "code",
   "execution_count": null,
   "metadata": {},
   "outputs": [],
   "source": [
    "def CrearDataSet(Num=1):\n",
    "    \n",
    "    Output = []\n",
    "    \n",
    "    for i in range(Num):\n",
    "        \n",
    "        # Crear un rango de fechas semanal (De lunes a lunes)\n",
    "        rng = pd.date_range(start='1/1/2016', end='12/31/2020', freq='W-MON')\n",
    "        \n",
    "        # Crear valores aleatorios\n",
    "        data = np.random.randint(low=25,high=1000,size=len(rng))\n",
    "        \n",
    "        # Estatus posibles\n",
    "        status = [1,2,3]\n",
    "        \n",
    "        # Lista de estatus aleatorios\n",
    "        random_status = [status[np.random.randint(low=0,high=len(status))] for i in range(len(rng))]\n",
    "        \n",
    "        # Locales posibles\n",
    "        locales = ['Libertador','El Hatillo','El hatillo','Chacao','Baruta','Sucre']\n",
    "        \n",
    "        # Crear una lista aleatoria de estatuses\n",
    "        random_locales = [locales[np.random.randint(low=0,high=len(states))] for i in range(len(rng))]\n",
    "    \n",
    "        Output.extend(zip(random_locales, random_status, data, rng))\n",
    "        \n",
    "    return Output"
   ]
  },
  {
   "cell_type": "code",
   "execution_count": null,
   "metadata": {},
   "outputs": [],
   "source": [
    "dataset = CrearDataSet(4)\n",
    "\n",
    "df = pd.DataFrame(data=dataset, \n",
    "                  columns=['Local','Estatus_local','Cantidad_Clientes','Fecha_Status'])\n",
    "df"
   ]
  },
  {
   "cell_type": "markdown",
   "metadata": {},
   "source": [
    "##  <font color=#003d5c> _np.random.choice()_ </font>\n",
    "### Esta función extrae una muestra aleatoria a partir de un array unidimensional. "
   ]
  },
  {
   "cell_type": "code",
   "execution_count": null,
   "metadata": {},
   "outputs": [],
   "source": [
    "filas = np.random.choice(df.index, 10, replace=False)\n",
    "\n",
    "filas"
   ]
  },
  {
   "cell_type": "code",
   "execution_count": null,
   "metadata": {},
   "outputs": [],
   "source": [
    "df.loc[filas]"
   ]
  },
  {
   "cell_type": "code",
   "execution_count": null,
   "metadata": {},
   "outputs": [],
   "source": []
  }
 ],
 "metadata": {
  "kernelspec": {
   "display_name": "Python 3",
   "language": "python",
   "name": "python3"
  },
  "language_info": {
   "codemirror_mode": {
    "name": "ipython",
    "version": 3
   },
   "file_extension": ".py",
   "mimetype": "text/x-python",
   "name": "python",
   "nbconvert_exporter": "python",
   "pygments_lexer": "ipython3",
   "version": "3.8.8"
  }
 },
 "nbformat": 4,
 "nbformat_minor": 4
}
